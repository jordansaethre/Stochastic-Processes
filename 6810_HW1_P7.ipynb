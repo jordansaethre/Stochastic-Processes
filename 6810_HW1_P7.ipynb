{
 "cells": [
  {
   "cell_type": "markdown",
   "metadata": {},
   "source": [
    "# HW 1 Problem 7 "
   ]
  },
  {
   "cell_type": "code",
   "execution_count": 2,
   "metadata": {},
   "outputs": [],
   "source": [
    "import numpy as np"
   ]
  },
  {
   "cell_type": "markdown",
   "metadata": {},
   "source": [
    "### a)"
   ]
  },
  {
   "cell_type": "code",
   "execution_count": 7,
   "metadata": {},
   "outputs": [],
   "source": [
    "Pa = np.array([[0,1],[1,0]])"
   ]
  },
  {
   "cell_type": "code",
   "execution_count": 8,
   "metadata": {},
   "outputs": [],
   "source": [
    "da, va = np.linalg.eig(Pa)"
   ]
  },
  {
   "cell_type": "code",
   "execution_count": 37,
   "metadata": {},
   "outputs": [
    {
     "data": {
      "text/plain": [
       "array([ 1., -1.])"
      ]
     },
     "execution_count": 37,
     "metadata": {},
     "output_type": "execute_result"
    }
   ],
   "source": [
    "np.round(da,3)"
   ]
  },
  {
   "cell_type": "code",
   "execution_count": 32,
   "metadata": {},
   "outputs": [
    {
     "data": {
      "text/plain": [
       "array([[ 0.707, -0.707],\n",
       "       [ 0.707,  0.707]])"
      ]
     },
     "execution_count": 32,
     "metadata": {},
     "output_type": "execute_result"
    }
   ],
   "source": [
    "np.round(va,3)"
   ]
  },
  {
   "cell_type": "code",
   "execution_count": 41,
   "metadata": {},
   "outputs": [
    {
     "data": {
      "text/plain": [
       "array([[ 0.707,  0.707],\n",
       "       [-0.707,  0.707]])"
      ]
     },
     "execution_count": 41,
     "metadata": {},
     "output_type": "execute_result"
    }
   ],
   "source": [
    "va_inv = np.linalg.inv(va)\n",
    "np.round(va_inv,3)"
   ]
  },
  {
   "cell_type": "markdown",
   "metadata": {},
   "source": [
    "### b)"
   ]
  },
  {
   "cell_type": "code",
   "execution_count": 11,
   "metadata": {},
   "outputs": [],
   "source": [
    "Pb = np.array([[0.0,1.0,0.0,0.0,0.0],\n",
    "               [0.5,0.0,0.5,0.0,0.0],\n",
    "               [0.0,0.5,0.0,0.5,0.0],\n",
    "               [0.0,0.0,0.5,0.0,0.5],\n",
    "               [0.0,0.0,0.0,1.0,0.0]])"
   ]
  },
  {
   "cell_type": "code",
   "execution_count": 12,
   "metadata": {},
   "outputs": [],
   "source": [
    "db, vb = np.linalg.eig(Pb)"
   ]
  },
  {
   "cell_type": "code",
   "execution_count": 36,
   "metadata": {},
   "outputs": [
    {
     "data": {
      "text/plain": [
       "array([-1.   , -0.707, -0.   ,  1.   ,  0.707])"
      ]
     },
     "execution_count": 36,
     "metadata": {},
     "output_type": "execute_result"
    }
   ],
   "source": [
    "np.round(db,3)"
   ]
  },
  {
   "cell_type": "code",
   "execution_count": 31,
   "metadata": {},
   "outputs": [
    {
     "data": {
      "text/plain": [
       "array([[ 0.447,  0.577,  0.577,  0.447, -0.577],\n",
       "       [-0.447, -0.408, -0.   ,  0.447, -0.408],\n",
       "       [ 0.447,  0.   , -0.577,  0.447, -0.   ],\n",
       "       [-0.447,  0.408, -0.   ,  0.447,  0.408],\n",
       "       [ 0.447, -0.577,  0.577,  0.447,  0.577]])"
      ]
     },
     "execution_count": 31,
     "metadata": {},
     "output_type": "execute_result"
    }
   ],
   "source": [
    "np.round(vb,3)"
   ]
  },
  {
   "cell_type": "code",
   "execution_count": 40,
   "metadata": {},
   "outputs": [
    {
     "data": {
      "text/plain": [
       "array([[ 0.28 , -0.559,  0.559, -0.559,  0.28 ],\n",
       "       [ 0.433, -0.612,  0.   ,  0.612, -0.433],\n",
       "       [ 0.433, -0.   , -0.866, -0.   ,  0.433],\n",
       "       [ 0.28 ,  0.559,  0.559,  0.559,  0.28 ],\n",
       "       [-0.433, -0.612, -0.   ,  0.612,  0.433]])"
      ]
     },
     "execution_count": 40,
     "metadata": {},
     "output_type": "execute_result"
    }
   ],
   "source": [
    "vb_inv = np.linalg.inv(vb)\n",
    "np.round(vb_inv,3)"
   ]
  },
  {
   "cell_type": "markdown",
   "metadata": {},
   "source": [
    "### c)"
   ]
  },
  {
   "cell_type": "code",
   "execution_count": 15,
   "metadata": {},
   "outputs": [],
   "source": [
    "Pc = np.array([[1.0,0.0,0.0],\n",
    "               [0.5,0.0,0.5],\n",
    "               [0.0,0.0,1.0]])"
   ]
  },
  {
   "cell_type": "code",
   "execution_count": 16,
   "metadata": {},
   "outputs": [],
   "source": [
    "dc, vc = np.linalg.eig(Pc)"
   ]
  },
  {
   "cell_type": "code",
   "execution_count": 35,
   "metadata": {},
   "outputs": [
    {
     "data": {
      "text/plain": [
       "array([0., 1., 1.])"
      ]
     },
     "execution_count": 35,
     "metadata": {},
     "output_type": "execute_result"
    }
   ],
   "source": [
    "np.round(dc,3)"
   ]
  },
  {
   "cell_type": "code",
   "execution_count": 30,
   "metadata": {},
   "outputs": [
    {
     "data": {
      "text/plain": [
       "array([[0.   , 0.894, 0.   ],\n",
       "       [1.   , 0.447, 0.447],\n",
       "       [0.   , 0.   , 0.894]])"
      ]
     },
     "execution_count": 30,
     "metadata": {},
     "output_type": "execute_result"
    }
   ],
   "source": [
    "np.round(vc,3)"
   ]
  },
  {
   "cell_type": "code",
   "execution_count": 42,
   "metadata": {},
   "outputs": [
    {
     "data": {
      "text/plain": [
       "array([[-0.5  ,  1.   , -0.5  ],\n",
       "       [ 1.118,  0.   ,  0.   ],\n",
       "       [ 0.   ,  0.   ,  1.118]])"
      ]
     },
     "execution_count": 42,
     "metadata": {},
     "output_type": "execute_result"
    }
   ],
   "source": [
    "vc_inv = np.linalg.inv(vc)\n",
    "np.round(vc_inv,3)"
   ]
  },
  {
   "cell_type": "markdown",
   "metadata": {},
   "source": [
    "### d)"
   ]
  },
  {
   "cell_type": "code",
   "execution_count": 19,
   "metadata": {},
   "outputs": [],
   "source": [
    "Pd = np.array([[1.0,0.0,0.0,0.0,0.0],\n",
    "               [0.5,0.0,0.5,0.0,0.0],\n",
    "               [0.0,0.5,0.0,0.5,0.0],\n",
    "               [0.0,0.0,0.5,0.0,0.5],\n",
    "               [0.0,0.0,0.0,0.0,1.0]])"
   ]
  },
  {
   "cell_type": "code",
   "execution_count": 20,
   "metadata": {},
   "outputs": [],
   "source": [
    "dd, vd = np.linalg.eig(Pd)"
   ]
  },
  {
   "cell_type": "code",
   "execution_count": 34,
   "metadata": {},
   "outputs": [
    {
     "data": {
      "text/plain": [
       "array([-0.707,  0.   ,  0.707,  1.   ,  1.   ])"
      ]
     },
     "execution_count": 34,
     "metadata": {},
     "output_type": "execute_result"
    }
   ],
   "source": [
    "np.round(dd,3)"
   ]
  },
  {
   "cell_type": "code",
   "execution_count": 28,
   "metadata": {},
   "outputs": [
    {
     "data": {
      "text/plain": [
       "array([[ 0.   ,  0.   ,  0.   ,  0.73 ,  0.   ],\n",
       "       [ 0.5  ,  0.707, -0.5  ,  0.548,  0.183],\n",
       "       [-0.707, -0.   , -0.707,  0.365,  0.365],\n",
       "       [ 0.5  , -0.707, -0.5  ,  0.183,  0.548],\n",
       "       [ 0.   ,  0.   ,  0.   ,  0.   ,  0.73 ]])"
      ]
     },
     "execution_count": 28,
     "metadata": {},
     "output_type": "execute_result"
    }
   ],
   "source": [
    "np.round(vd,3)"
   ]
  },
  {
   "cell_type": "code",
   "execution_count": 43,
   "metadata": {},
   "outputs": [
    {
     "data": {
      "text/plain": [
       "array([[-0.146,  0.5  , -0.707,  0.5  , -0.146],\n",
       "       [-0.354,  0.707, -0.   , -0.707,  0.354],\n",
       "       [ 0.854, -0.5  , -0.707, -0.5  ,  0.854],\n",
       "       [ 1.369,  0.   ,  0.   ,  0.   ,  0.   ],\n",
       "       [ 0.   ,  0.   ,  0.   ,  0.   ,  1.369]])"
      ]
     },
     "execution_count": 43,
     "metadata": {},
     "output_type": "execute_result"
    }
   ],
   "source": [
    "vd_inv = np.linalg.inv(vd)\n",
    "np.round(vd_inv,3)"
   ]
  },
  {
   "cell_type": "markdown",
   "metadata": {},
   "source": [
    "### e)"
   ]
  },
  {
   "cell_type": "code",
   "execution_count": 23,
   "metadata": {},
   "outputs": [],
   "source": [
    "Pd = np.array([[1/2,1/2,0.0,0.0,0.0],\n",
    "               [1/6,5/6,0.0,0.0,0.0],\n",
    "               [0.0,0.0,3/4,1/4,0.0],\n",
    "               [0.0,0.0,1/8,2/3,5/24],\n",
    "               [0.0,0.0,0.0,1/6,5/6]])"
   ]
  },
  {
   "cell_type": "code",
   "execution_count": 24,
   "metadata": {},
   "outputs": [],
   "source": [
    "de, ve = np.linalg.eig(Pd)"
   ]
  },
  {
   "cell_type": "code",
   "execution_count": 33,
   "metadata": {},
   "outputs": [
    {
     "data": {
      "text/plain": [
       "array([0.333, 1.   , 0.464, 0.786, 1.   ])"
      ]
     },
     "execution_count": 33,
     "metadata": {},
     "output_type": "execute_result"
    }
   ],
   "source": [
    "np.round(de,3)"
   ]
  },
  {
   "cell_type": "code",
   "execution_count": 29,
   "metadata": {},
   "outputs": [
    {
     "data": {
      "text/plain": [
       "array([[-0.949, -0.707,  0.   ,  0.   ,  0.   ],\n",
       "       [ 0.316, -0.707,  0.   ,  0.   ,  0.   ],\n",
       "       [ 0.   ,  0.   ,  0.623,  0.881,  0.577],\n",
       "       [ 0.   ,  0.   , -0.713,  0.128,  0.577],\n",
       "       [ 0.   ,  0.   ,  0.322, -0.455,  0.577]])"
      ]
     },
     "execution_count": 29,
     "metadata": {},
     "output_type": "execute_result"
    }
   ],
   "source": [
    "np.round(ve,3)"
   ]
  },
  {
   "cell_type": "code",
   "execution_count": 44,
   "metadata": {},
   "outputs": [
    {
     "data": {
      "text/plain": [
       "array([[-0.791,  0.791, -0.   , -0.   , -0.   ],\n",
       "       [-0.354, -1.061, -0.   , -0.   , -0.   ],\n",
       "       [-0.   , -0.   ,  0.374, -0.857,  0.483],\n",
       "       [ 0.   ,  0.   ,  0.664,  0.193, -0.857],\n",
       "       [ 0.   ,  0.   ,  0.315,  0.63 ,  0.787]])"
      ]
     },
     "execution_count": 44,
     "metadata": {},
     "output_type": "execute_result"
    }
   ],
   "source": [
    "ve_inv = np.linalg.inv(ve)\n",
    "np.round(ve_inv,3)"
   ]
  }
 ],
 "metadata": {
  "kernelspec": {
   "display_name": "Python 3",
   "language": "python",
   "name": "python3"
  },
  "language_info": {
   "codemirror_mode": {
    "name": "ipython",
    "version": 3
   },
   "file_extension": ".py",
   "mimetype": "text/x-python",
   "name": "python",
   "nbconvert_exporter": "python",
   "pygments_lexer": "ipython3",
   "version": "3.7.3"
  }
 },
 "nbformat": 4,
 "nbformat_minor": 2
}
