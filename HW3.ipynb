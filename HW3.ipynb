{
 "cells": [
  {
   "cell_type": "markdown",
   "metadata": {},
   "source": [
    "# Homework 3\n",
    "\n",
    "_Jordan Saethre_\n",
    "\n",
    "_October 27, 2020_\n",
    "\n",
    "### Problem 1\n",
    "Recall the example of the chess board knight that travels along a random path on a 3x3 grid.\n",
    "\n",
    "Write the transition matrix for the path of the knight. Find $\\bar \\pi$ and $E(T_{ii}^1)$."
   ]
  },
  {
   "cell_type": "code",
   "execution_count": 1,
   "metadata": {},
   "outputs": [],
   "source": [
    "import numpy as np\n",
    "import random\n",
    "from matplotlib import pyplot as plt"
   ]
  },
  {
   "cell_type": "code",
   "execution_count": 2,
   "metadata": {},
   "outputs": [],
   "source": [
    "P = np.array([[0.0,0.0,0.0,0.0,0.5,0.0,0.5,0.0],\n",
    "              [0.0,0.0,0.0,0.0,0.0,0.5,0.0,0.5],\n",
    "              [0.0,0.0,0.0,0.5,0.0,0.0,0.5,0.0],\n",
    "              [0.0,0.0,0.5,0.0,0.0,0.0,0.0,0.5],\n",
    "              [0.5,0.0,0.0,0.0,0.0,0.5,0.0,0.0],\n",
    "              [0.0,0.5,0.0,0.0,0.5,0.0,0.0,0.0],\n",
    "              [0.5,0.0,0.5,0.0,0.0,0.0,0.0,0.0],\n",
    "              [0.0,0.5,0.0,0.5,0.0,0.0,0.0,0.0]])"
   ]
  },
  {
   "cell_type": "code",
   "execution_count": 3,
   "metadata": {},
   "outputs": [],
   "source": [
    "d, v = np.linalg.eig(P)"
   ]
  },
  {
   "cell_type": "code",
   "execution_count": 4,
   "metadata": {},
   "outputs": [
    {
     "data": {
      "text/plain": [
       "array([-1.   , -0.707,  0.   ,  1.   ,  0.707, -0.707,  0.707,  0.   ])"
      ]
     },
     "execution_count": 4,
     "metadata": {},
     "output_type": "execute_result"
    }
   ],
   "source": [
    "np.round(d,3)"
   ]
  },
  {
   "cell_type": "code",
   "execution_count": 5,
   "metadata": {},
   "outputs": [
    {
     "data": {
      "text/plain": [
       "array([[ 0.354, -0.5  ,  0.5  ,  0.354, -0.5  ,  0.021, -0.025, -0.133],\n",
       "       [-0.354, -0.354, -0.   ,  0.354,  0.354, -0.339, -0.335, -0.482],\n",
       "       [ 0.354,  0.   , -0.5  ,  0.354,  0.   , -0.5  ,  0.499,  0.133],\n",
       "       [-0.354, -0.354, -0.   ,  0.354,  0.354,  0.368,  0.371,  0.482],\n",
       "       [-0.354,  0.354,  0.   ,  0.354, -0.354, -0.368, -0.371,  0.482],\n",
       "       [ 0.354,  0.   , -0.5  ,  0.354, -0.   ,  0.5  , -0.499,  0.133],\n",
       "       [-0.354,  0.354,  0.   ,  0.354, -0.354,  0.339,  0.335, -0.482],\n",
       "       [ 0.354,  0.5  ,  0.5  ,  0.354,  0.5  , -0.021,  0.025, -0.133]])"
      ]
     },
     "execution_count": 5,
     "metadata": {},
     "output_type": "execute_result"
    }
   ],
   "source": [
    "np.round(v,3)"
   ]
  },
  {
   "cell_type": "code",
   "execution_count": 6,
   "metadata": {},
   "outputs": [
    {
     "data": {
      "text/plain": [
       "array([[ 0.354, -0.354,  0.354, -0.354, -0.354,  0.354, -0.354,  0.354],\n",
       "       [-0.5  , -0.368, -0.021, -0.339,  0.339,  0.021,  0.368,  0.5  ],\n",
       "       [ 0.5  , -0.138, -0.5  ,  0.138,  0.138, -0.5  , -0.138,  0.5  ],\n",
       "       [ 0.354,  0.354,  0.354,  0.354,  0.354,  0.354,  0.354,  0.354],\n",
       "       [-0.5  ,  0.371, -0.025,  0.336, -0.336,  0.025, -0.371,  0.5  ],\n",
       "       [ 0.   , -0.354, -0.5  ,  0.354, -0.354,  0.5  ,  0.354,  0.   ],\n",
       "       [ 0.   , -0.354,  0.501,  0.354, -0.354, -0.501,  0.354, -0.   ],\n",
       "       [ 0.   , -0.519, -0.   ,  0.519,  0.519, -0.   , -0.519,  0.   ]])"
      ]
     },
     "execution_count": 6,
     "metadata": {},
     "output_type": "execute_result"
    }
   ],
   "source": [
    "v_inv = np.linalg.inv(v)\n",
    "np.round(v_inv,3)"
   ]
  },
  {
   "cell_type": "code",
   "execution_count": 7,
   "metadata": {},
   "outputs": [
    {
     "data": {
      "text/plain": [
       "array([0.35355339, 0.35355339, 0.35355339, 0.35355339, 0.35355339,\n",
       "       0.35355339, 0.35355339, 0.35355339])"
      ]
     },
     "execution_count": 7,
     "metadata": {},
     "output_type": "execute_result"
    }
   ],
   "source": [
    "# left eigen vector with eigen value 1 is 4th row of v_inv\n",
    "st_dist = v_inv[3,:]\n",
    "st_dist"
   ]
  },
  {
   "cell_type": "code",
   "execution_count": 8,
   "metadata": {},
   "outputs": [
    {
     "data": {
      "text/plain": [
       "array([0.125, 0.125, 0.125, 0.125, 0.125, 0.125, 0.125, 0.125])"
      ]
     },
     "execution_count": 8,
     "metadata": {},
     "output_type": "execute_result"
    }
   ],
   "source": [
    "# probability vector must sum to 1\n",
    "st_dist = st_dist/st_dist.sum(axis = 0)\n",
    "st_dist"
   ]
  },
  {
   "cell_type": "markdown",
   "metadata": {},
   "source": [
    "$E(T_{ii}^1) = \\frac{1}{\\pi(i)}$"
   ]
  },
  {
   "cell_type": "code",
   "execution_count": 9,
   "metadata": {},
   "outputs": [
    {
     "data": {
      "text/plain": [
       "8.0"
      ]
     },
     "execution_count": 9,
     "metadata": {},
     "output_type": "execute_result"
    }
   ],
   "source": [
    "1/st_dist[0]"
   ]
  },
  {
   "cell_type": "markdown",
   "metadata": {},
   "source": [
    "### Problem 2\n",
    "\n",
    "Consider the random path for a chess board rook on a 2x2 grid. \n",
    "\n",
    "Write the transition matrix for the path of the rook. Find $\\bar \\pi$ and $E(T_{ii}^1)$."
   ]
  },
  {
   "cell_type": "code",
   "execution_count": 10,
   "metadata": {},
   "outputs": [],
   "source": [
    "P = np.array([[0.0,0.5,0.0,0.5],\n",
    "              [0.5,0.0,0.5,0.0],\n",
    "              [0.0,0.5,0.0,0.5],\n",
    "              [0.5,0.0,0.5,0.0]])"
   ]
  },
  {
   "cell_type": "code",
   "execution_count": 11,
   "metadata": {},
   "outputs": [],
   "source": [
    "d, v = np.linalg.eig(P)"
   ]
  },
  {
   "cell_type": "code",
   "execution_count": 12,
   "metadata": {},
   "outputs": [
    {
     "data": {
      "text/plain": [
       "array([-1.,  0.,  1.,  0.])"
      ]
     },
     "execution_count": 12,
     "metadata": {},
     "output_type": "execute_result"
    }
   ],
   "source": [
    "np.round(d,3)"
   ]
  },
  {
   "cell_type": "code",
   "execution_count": 13,
   "metadata": {},
   "outputs": [
    {
     "data": {
      "text/plain": [
       "array([[ 0.5  , -0.707,  0.5  ,  0.   ],\n",
       "       [-0.5  , -0.   ,  0.5  , -0.707],\n",
       "       [ 0.5  ,  0.707,  0.5  ,  0.   ],\n",
       "       [-0.5  , -0.   ,  0.5  ,  0.707]])"
      ]
     },
     "execution_count": 13,
     "metadata": {},
     "output_type": "execute_result"
    }
   ],
   "source": [
    "np.round(v,3)"
   ]
  },
  {
   "cell_type": "code",
   "execution_count": 14,
   "metadata": {},
   "outputs": [
    {
     "data": {
      "text/plain": [
       "array([[ 0.5  , -0.5  ,  0.5  , -0.5  ],\n",
       "       [-0.707,  0.   ,  0.707,  0.   ],\n",
       "       [ 0.5  ,  0.5  ,  0.5  ,  0.5  ],\n",
       "       [-0.   , -0.707, -0.   ,  0.707]])"
      ]
     },
     "execution_count": 14,
     "metadata": {},
     "output_type": "execute_result"
    }
   ],
   "source": [
    "v_inv = np.linalg.inv(v)\n",
    "np.round(v_inv,3)"
   ]
  },
  {
   "cell_type": "code",
   "execution_count": 15,
   "metadata": {},
   "outputs": [
    {
     "data": {
      "text/plain": [
       "array([0.5, 0.5, 0.5, 0.5])"
      ]
     },
     "execution_count": 15,
     "metadata": {},
     "output_type": "execute_result"
    }
   ],
   "source": [
    "# left eigen vector with eigen value 1 is 3th row of v_inv\n",
    "st_dist = v_inv[2,:]\n",
    "st_dist"
   ]
  },
  {
   "cell_type": "code",
   "execution_count": 16,
   "metadata": {},
   "outputs": [
    {
     "data": {
      "text/plain": [
       "array([0.25, 0.25, 0.25, 0.25])"
      ]
     },
     "execution_count": 16,
     "metadata": {},
     "output_type": "execute_result"
    }
   ],
   "source": [
    "# probability vector must sum to 1\n",
    "st_dist = st_dist/st_dist.sum(axis = 0)\n",
    "st_dist"
   ]
  },
  {
   "cell_type": "code",
   "execution_count": 17,
   "metadata": {},
   "outputs": [
    {
     "data": {
      "text/plain": [
       "4.000000000000001"
      ]
     },
     "execution_count": 17,
     "metadata": {},
     "output_type": "execute_result"
    }
   ],
   "source": [
    "1/st_dist[0]"
   ]
  },
  {
   "cell_type": "markdown",
   "metadata": {},
   "source": [
    "### Problem 8\n",
    "\n",
    "Write a program for the cases in problem 8 to generate 100 samples from each distribution. Plot a histogram and compute the sample mean and variance in each case. "
   ]
  },
  {
   "cell_type": "code",
   "execution_count": 18,
   "metadata": {},
   "outputs": [
    {
     "name": "stdout",
     "output_type": "stream",
     "text": [
      "sample:  [0. 0. 0. 1. 0. 1. 0. 1. 0. 0. 1. 0. 0. 0. 0. 0. 1. 0. 0. 1. 0. 1. 1. 0.\n",
      " 0. 0. 0. 0. 0. 0. 0. 0. 0. 0. 0. 0. 0. 0. 1. 1. 0. 0. 1. 0. 0. 1. 0. 1.\n",
      " 0. 0. 0. 0. 1. 0. 0. 0. 0. 0. 0. 0. 0. 0. 0. 0. 1. 1. 0. 0. 0. 0. 0. 0.\n",
      " 0. 0. 1. 1. 0. 0. 0. 0. 0. 0. 0. 0. 1. 0. 0. 0. 0. 0. 0. 0. 0. 1. 1. 0.\n",
      " 1. 0. 0. 0.]\n",
      "sample mean:  0.22\n",
      "sample variance:  0.172\n"
     ]
    },
    {
     "data": {
      "image/png": "[encoded data removed]",
      "text/plain": [
       "<Figure size 432x288 with 1 Axes>"
      ]
     },
     "metadata": {
      "needs_background": "light"
     },
     "output_type": "display_data"
    }
   ],
   "source": [
    "p = 1-1/4\n",
    "bernoulli = np.array([])\n",
    "for i in range(100):\n",
    "    u = random.uniform(0,1)\n",
    "    if u <= p:\n",
    "        x = 0\n",
    "        bernoulli = np.append(x, bernoulli)\n",
    "    else:\n",
    "        x = 1\n",
    "        bernoulli = np.append(x, bernoulli)\n",
    "        \n",
    "print('sample: ',bernoulli)\n",
    "print('sample mean: ',np.round(bernoulli.mean(),3))\n",
    "print('sample variance: ',np.round(bernoulli.var(),3))\n",
    "\n",
    "plt.hist(bernoulli, bins = [0,1,2]) \n",
    "plt.title(\"Bernoulli\") \n",
    "plt.show()"
   ]
  },
  {
   "cell_type": "code",
   "execution_count": 22,
   "metadata": {},
   "outputs": [
    {
     "name": "stdout",
     "output_type": "stream",
     "text": [
      "sample:  [0. 0. 2. 0. 0. 0. 0. 0. 2. 0. 0. 1. 0. 0. 1. 0. 1. 1. 0. 1. 0. 1. 1. 0.\n",
      " 1. 1. 1. 1. 0. 1. 1. 1. 0. 0. 1. 0. 0. 1. 0. 0. 2. 0. 0. 0. 0. 1. 1. 0.\n",
      " 1. 1. 1. 0. 0. 1. 1. 1. 0. 0. 2. 0. 2. 0. 0. 1. 2. 2. 2. 2. 0. 1. 0. 1.\n",
      " 2. 0. 0. 0. 0. 0. 1. 1. 0. 0. 1. 0. 1. 0. 1. 0. 0. 1. 0. 1. 0. 0. 0. 0.\n",
      " 0. 0. 0. 0.]\n",
      "sample mean:  0.54\n",
      "sample variance:  0.448\n"
     ]
    },
    {
     "data": {
      "image/png": "[encoded data removed]",
      "text/plain": [
       "<Figure size 432x288 with 1 Axes>"
      ]
     },
     "metadata": {
      "needs_background": "light"
     },
     "output_type": "display_data"
    }
   ],
   "source": [
    "p1 = 9/16\n",
    "p2 = 15/16\n",
    "\n",
    "binomial = np.array([])\n",
    "\n",
    "for i in range(100):\n",
    "    u = random.uniform(0,1)\n",
    "    if u < p1:\n",
    "        x = 0\n",
    "    elif u >= p1 and u < p2:\n",
    "        x = 1\n",
    "    else:\n",
    "        x = 2\n",
    "    binomial = np.append(x, binomial)\n",
    "    \n",
    "print('sample: ',binomial)\n",
    "print('sample mean: ',np.round(binomial.mean(),3))\n",
    "print('sample variance: ',np.round(binomial.var(),3))\n",
    "\n",
    "plt.hist(binomial, bins = [0,1,2,3]) \n",
    "plt.title(\"Binomial\") \n",
    "plt.show()"
   ]
  },
  {
   "cell_type": "code",
   "execution_count": 23,
   "metadata": {},
   "outputs": [
    {
     "name": "stdout",
     "output_type": "stream",
     "text": [
      "sample:  [6. 4. 4. 6. 6. 6. 5. 5. 4. 2. 3. 5. 6. 4. 4. 2. 4. 2. 3. 5. 2. 4. 6. 1.\n",
      " 4. 1. 6. 3. 6. 2. 1. 3. 6. 1. 5. 4. 4. 3. 3. 1. 3. 2. 3. 1. 2. 2. 5. 4.\n",
      " 2. 4. 4. 2. 2. 5. 3. 6. 2. 2. 3. 1. 6. 5. 6. 6. 5. 6. 6. 6. 6. 3. 6. 1.\n",
      " 2. 1. 5. 2. 2. 5. 6. 5. 2. 1. 6. 2. 5. 1. 5. 3. 5. 5. 2. 6. 3. 3. 6. 1.\n",
      " 1. 6. 4. 4.]\n",
      "sample mean:  3.71\n",
      "sample variance:  3.066\n"
     ]
    },
    {
     "data": {
      "image/png": "[encoded data removed]",
      "text/plain": [
       "<Figure size 432x288 with 1 Axes>"
      ]
     },
     "metadata": {
      "needs_background": "light"
     },
     "output_type": "display_data"
    }
   ],
   "source": [
    "p1 = 1/6\n",
    "p2 = 2/6\n",
    "p3 = 3/6\n",
    "p4 = 4/6\n",
    "p5 = 5/6\n",
    "\n",
    "du = np.array([])\n",
    "\n",
    "for i in range(100):\n",
    "    u = random.uniform(0,1)\n",
    "    if u < p1:\n",
    "        x = 1\n",
    "    elif u >= p1 and u < p2:\n",
    "        x = 2\n",
    "    elif u >= p2 and u < p3:\n",
    "        x = 3\n",
    "    elif u >= p3 and u < p4:\n",
    "        x = 4\n",
    "    elif u >= p4 and u < p5:\n",
    "        x = 5\n",
    "    else:\n",
    "        x = 6\n",
    "    du = np.append(x, du)\n",
    "    \n",
    "print('sample: ',du)\n",
    "print('sample mean: ',np.round(du.mean(),3))\n",
    "print('sample variance: ',np.round(du.var(),3))\n",
    "\n",
    "plt.hist(du, bins = [1,2,3,4,5,6,7]) \n",
    "plt.title(\"Discrete Uniform\") \n",
    "plt.show()"
   ]
  },
  {
   "cell_type": "markdown",
   "metadata": {},
   "source": [
    "### Problem 9\n",
    "\n",
    "Derive the expression to generate samples from Exponential ($\\lambda = 2$) using a random generator that generates $U \\sim Unif(0,1)$. Write a program to generate samples from Exponential ($\\lambda = 2$)."
   ]
  },
  {
   "cell_type": "code",
   "execution_count": 21,
   "metadata": {},
   "outputs": [
    {
     "name": "stdout",
     "output_type": "stream",
     "text": [
      "sample:  [0.29347463 0.91602641 0.15718813 0.60630478 0.87631364 0.43111891\n",
      " 0.65317397 0.05173227 0.11307977 0.34103305 0.26585559 0.71837922\n",
      " 0.26694921 0.09795728 0.59360177 1.48917868 0.03230948 1.25786624\n",
      " 0.48982179 0.46453424 0.82127752 0.77725291 0.54497295 0.43231706\n",
      " 0.13559069 0.25304322 0.0996275  0.108141   0.40343819 0.16814721\n",
      " 0.13767731 0.42763462 0.16552213 0.28845514 0.55077212 0.81169051\n",
      " 0.0763049  0.58268413 0.41655712 0.09021025 0.17594543 0.28646898\n",
      " 0.2807658  0.06219776 0.33653339 0.63354394 0.03568222 1.12627966\n",
      " 0.56670233 0.40199277 0.96105825 0.83192087 0.07266473 0.10323085\n",
      " 1.12805588 0.97164744 0.13069794 0.16217602 0.07834695 0.06640207\n",
      " 0.32658073 0.01060262 0.1695925  0.61003256 0.02023915 1.48603025\n",
      " 0.17220658 0.42470511 0.57106472 2.00756911 0.08540564 0.39338837\n",
      " 0.00973158 0.60421888 0.06087313 0.18143946 1.44145375 0.09934433\n",
      " 1.28477392 0.41664065 0.01158574 0.20790995 0.65835338 0.13785947\n",
      " 0.44400943 0.67813321 0.48818167 0.19861431 0.72531632 1.50801555\n",
      " 0.13557125 0.46831195 0.05988017 0.0210747  0.80997411 0.13925961\n",
      " 0.3508488  0.08377762 0.05524899 0.58133428]\n",
      "sample mean:  0.44\n",
      "sample variance:  0.164\n"
     ]
    }
   ],
   "source": [
    "lmda = 2\n",
    "F_inverse = lambda x: -1/lmda*np.log(1-x)\n",
    "\n",
    "exponential = np.array([])\n",
    "for i in range(100):\n",
    "    u = u = random.uniform(0,1)\n",
    "    exponential = np.append(F_inverse(u), exponential)\n",
    "\n",
    "print('sample: ',exponential)\n",
    "print('sample mean: ',np.round(exponential.mean(),3))\n",
    "print('sample variance: ',np.round(exponential.var(),3))"
   ]
  }
 ],
 "metadata": {
  "kernelspec": {
   "display_name": "Python 3",
   "language": "python",
   "name": "python3"
  },
  "language_info": {
   "codemirror_mode": {
    "name": "ipython",
    "version": 3
   },
   "file_extension": ".py",
   "mimetype": "text/x-python",
   "name": "python",
   "nbconvert_exporter": "python",
   "pygments_lexer": "ipython3",
   "version": "3.7.3"
  }
 },
 "nbformat": 4,
 "nbformat_minor": 2
}
